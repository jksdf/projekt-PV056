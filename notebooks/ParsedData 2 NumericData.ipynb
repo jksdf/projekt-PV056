{
 "cells": [
  {
   "cell_type": "code",
   "execution_count": 1,
   "metadata": {
    "collapsed": true
   },
   "outputs": [],
   "source": [
    "%matplotlib inline"
   ]
  },
  {
   "cell_type": "code",
   "execution_count": 4,
   "metadata": {},
   "outputs": [
    {
     "name": "stdout",
     "output_type": "stream",
     "text": [
      "/home/luco/python/ml-imdb\n"
     ]
    }
   ],
   "source": [
    "cd .."
   ]
  },
  {
   "cell_type": "markdown",
   "metadata": {},
   "source": [
    "# ParsedData 2 NumericData"
   ]
  },
  {
   "cell_type": "code",
   "execution_count": 7,
   "metadata": {
    "collapsed": true
   },
   "outputs": [],
   "source": [
    "import json\n",
    "\n",
    "import numpy as np\n",
    "import seaborn as sb"
   ]
  },
  {
   "cell_type": "markdown",
   "metadata": {},
   "source": [
    "## Load Movies"
   ]
  },
  {
   "cell_type": "code",
   "execution_count": 8,
   "metadata": {},
   "outputs": [],
   "source": [
    "with open(\"./lukasmap_1970_2000.json\") as f:\n",
    "    json_data = json.load(f)"
   ]
  },
  {
   "cell_type": "code",
   "execution_count": 9,
   "metadata": {
    "collapsed": true
   },
   "outputs": [],
   "source": [
    "movies = [\n",
    "    (movie_name, movie_data)\n",
    "    for movie_name, movie_data\n",
    "    in json_data[\"data\"].items()\n",
    "    if \"actors\" in movie_data\n",
    "]"
   ]
  },
  {
   "cell_type": "code",
   "execution_count": 10,
   "metadata": {},
   "outputs": [
    {
     "data": {
      "text/plain": [
       "62295"
      ]
     },
     "execution_count": 10,
     "metadata": {},
     "output_type": "execute_result"
    }
   ],
   "source": [
    "len(movies)"
   ]
  },
  {
   "cell_type": "code",
   "execution_count": 26,
   "metadata": {},
   "outputs": [
    {
     "data": {
      "text/plain": [
       "(u'The Intruders (1970)',\n",
       " {u'actors': {u'Graham, William A.'},\n",
       "  u'btw': 0.0,\n",
       "  u'rating': 5.9,\n",
       "  u'votes': 106,\n",
       "  u'year': 1970})"
      ]
     },
     "execution_count": 26,
     "metadata": {},
     "output_type": "execute_result"
    }
   ],
   "source": [
    "movies[0]"
   ]
  },
  {
   "cell_type": "markdown",
   "metadata": {},
   "source": [
    "## Analysis of Actors"
   ]
  },
  {
   "cell_type": "code",
   "execution_count": 12,
   "metadata": {},
   "outputs": [],
   "source": [
    "set_of_actors = set(\n",
    "    actor\n",
    "    for _, movie_data in movies\n",
    "    for actor, _ in movie_data[\"actors\"]\n",
    ")\n",
    "\n",
    "actor_freq = {actor: 0 for actor in set_of_actors}\n",
    "\n",
    "for _, movie_data in movies:\n",
    "    for actor, _ in movie_data[\"actors\"]:\n",
    "        actor_freq[actor] += 1"
   ]
  },
  {
   "cell_type": "code",
   "execution_count": 13,
   "metadata": {},
   "outputs": [
    {
     "data": {
      "text/plain": [
       "83311"
      ]
     },
     "execution_count": 13,
     "metadata": {},
     "output_type": "execute_result"
    }
   ],
   "source": [
    "len(set_of_actors)"
   ]
  },
  {
   "cell_type": "markdown",
   "metadata": {},
   "source": [
    "## Actor Freq Histogram"
   ]
  },
  {
   "cell_type": "code",
   "execution_count": 14,
   "metadata": {},
   "outputs": [
    {
     "data": {
      "text/plain": [
       "<matplotlib.axes._subplots.AxesSubplot at 0x7f877a913590>"
      ]
     },
     "execution_count": 14,
     "metadata": {},
     "output_type": "execute_result"
    },
    {
     "data": {
      "image/png": "[encoded data removed]",
      "text/plain": [
       "<matplotlib.figure.Figure at 0x7f877a64d210>"
      ]
     },
     "metadata": {},
     "output_type": "display_data"
    }
   ],
   "source": [
    "sb.distplot(\n",
    "    [freq for _, freq in actor_freq.items()\n",
    "     if freq < 11],\n",
    "    kde=False, bins=10\n",
    ")"
   ]
  },
  {
   "cell_type": "markdown",
   "metadata": {},
   "source": [
    "The vast majority of actors occur just in a single movie.  That's called the data sparsity problem."
   ]
  },
  {
   "cell_type": "markdown",
   "metadata": {},
   "source": [
    "## Gettin' Rid of Data Sparsity"
   ]
  },
  {
   "cell_type": "markdown",
   "metadata": {},
   "source": [
    "Let's filter out actors occuring infrequently:"
   ]
  },
  {
   "cell_type": "code",
   "execution_count": 15,
   "metadata": {},
   "outputs": [],
   "source": [
    "actors = {actor for actor, freq in actor_freq.items() if freq >= 5}"
   ]
  },
  {
   "cell_type": "code",
   "execution_count": 16,
   "metadata": {},
   "outputs": [
    {
     "data": {
      "text/plain": [
       "10224"
      ]
     },
     "execution_count": 16,
     "metadata": {},
     "output_type": "execute_result"
    }
   ],
   "source": [
    "len(actors)"
   ]
  },
  {
   "cell_type": "markdown",
   "metadata": {},
   "source": [
    "Now we need to filter out movies that do not contain any of the \"restricted\" actors."
   ]
  },
  {
   "cell_type": "code",
   "execution_count": 17,
   "metadata": {},
   "outputs": [],
   "source": [
    "for _, movie_data in movies:\n",
    "    movie_data[\"actors\"] = {\n",
    "        actor for actor, __ in movie_data[\"actors\"]\n",
    "        if actor in actors\n",
    "    }\n",
    "\n",
    "movies = [\n",
    "    (movie_name, movie_data)\n",
    "    for movie_name, movie_data\n",
    "    in movies if len(movie_data[\"actors\"]) > 0\n",
    "]\n",
    "\n",
    "movies.sort(key=lambda (_, md): md[\"year\"])"
   ]
  },
  {
   "cell_type": "code",
   "execution_count": 18,
   "metadata": {},
   "outputs": [
    {
     "data": {
      "text/plain": [
       "47149"
      ]
     },
     "execution_count": 18,
     "metadata": {},
     "output_type": "execute_result"
    }
   ],
   "source": [
    "len(movies)"
   ]
  },
  {
   "cell_type": "markdown",
   "metadata": {
    "collapsed": true
   },
   "source": [
    "## Release Year Histogram"
   ]
  },
  {
   "cell_type": "code",
   "execution_count": 19,
   "metadata": {},
   "outputs": [
    {
     "data": {
      "text/plain": [
       "<matplotlib.axes._subplots.AxesSubplot at 0x7f8772be3f10>"
      ]
     },
     "execution_count": 19,
     "metadata": {},
     "output_type": "execute_result"
    },
    {
     "data": {
      "image/png": "[encoded data removed]",
      "text/plain": [
       "<matplotlib.figure.Figure at 0x7f877a0dfe10>"
      ]
     },
     "metadata": {},
     "output_type": "display_data"
    }
   ],
   "source": [
    "sb.distplot(\n",
    "    [movie_data[\"year\"] for _, movie_data in movies],\n",
    "    kde=False, bins=10\n",
    ")"
   ]
  },
  {
   "cell_type": "markdown",
   "metadata": {},
   "source": [
    "## Baking Data"
   ]
  },
  {
   "cell_type": "code",
   "execution_count": 48,
   "metadata": {},
   "outputs": [],
   "source": [
    "actor2i = {actor: i for i, actor in enumerate(sorted(actors))}\n",
    "\n",
    "data_x = np.zeros(shape=(len(movies), len(actors)))\n",
    "data_y = np.zeros(shape=(len(movies),1))\n",
    "\n",
    "for movie_index, (movie_name, movie_data)  in enumerate(movies):\n",
    "    for actor in movie_data[\"actors\"]:\n",
    "        data_x[movie_index, actor2i[actor]] = 1\n",
    "    data_y[movie_index,0] = movie_data[\"rating\"]"
   ]
  },
  {
   "cell_type": "markdown",
   "metadata": {},
   "source": [
    "If we want to persist the data to disk for easier training in other notebooks:"
   ]
  },
  {
   "cell_type": "code",
   "execution_count": 88,
   "metadata": {},
   "outputs": [
    {
     "data": {
      "text/plain": [
       "(47149, 10224)"
      ]
     },
     "execution_count": 88,
     "metadata": {},
     "output_type": "execute_result"
    }
   ],
   "source": [
    "np.save(\"x-only-actors.npy\", data_x)\n",
    "np.save(\"y-only-actors.npy\", data_y)"
   ]
  },
  {
   "cell_type": "markdown",
   "metadata": {},
   "source": [
    "# Example Training"
   ]
  },
  {
   "cell_type": "markdown",
   "metadata": {},
   "source": [
    "## Data for Training / Testing"
   ]
  },
  {
   "cell_type": "markdown",
   "metadata": {},
   "source": [
    "We divide the data into 2 parts - movies are sorted chronologically, so we will test models "
   ]
  },
  {
   "cell_type": "code",
   "execution_count": 49,
   "metadata": {
    "collapsed": true
   },
   "outputs": [],
   "source": [
    "threshold = 30000\n",
    "\n",
    "x_train = data_x[:threshold,:]\n",
    "x_test = data_x[threshold:,:]\n",
    "\n",
    "y_train = data_y[:threshold]\n",
    "y_test = data_y[threshold:]"
   ]
  },
  {
   "cell_type": "code",
   "execution_count": 52,
   "metadata": {},
   "outputs": [
    {
     "data": {
      "text/plain": [
       "((30000, 10224), (30000, 1))"
      ]
     },
     "execution_count": 52,
     "metadata": {},
     "output_type": "execute_result"
    }
   ],
   "source": [
    "x_train.shape, y_train.shape"
   ]
  },
  {
   "cell_type": "markdown",
   "metadata": {},
   "source": [
    "## Rating Prediction with Simple Feedforward Neural Network"
   ]
  },
  {
   "cell_type": "code",
   "execution_count": 33,
   "metadata": {},
   "outputs": [
    {
     "name": "stderr",
     "output_type": "stream",
     "text": [
      "Using TensorFlow backend.\n"
     ]
    }
   ],
   "source": [
    "import keras as k"
   ]
  },
  {
   "cell_type": "code",
   "execution_count": 88,
   "metadata": {},
   "outputs": [],
   "source": [
    "from keras.layers import Input, Dense, Dropout\n",
    "from keras.activations import relu\n",
    "from keras.models import Sequential"
   ]
  },
  {
   "cell_type": "code",
   "execution_count": 99,
   "metadata": {},
   "outputs": [],
   "source": [
    "model = Sequential()\n",
    "\n",
    "input_shape = (data_x.shape[1], )\n",
    "\n",
    "model.add(Dense(128, activation=relu, input_shape=input_shape))\n",
    "model.add(Dropout(0.33))\n",
    "model.add(Dense(128, activation=relu))\n",
    "model.add(Dropout(0.33))\n",
    "model.add(Dense(1, activation=relu))"
   ]
  },
  {
   "cell_type": "code",
   "execution_count": 100,
   "metadata": {},
   "outputs": [],
   "source": [
    "model.compile(loss=\"mse\", metrics=[\"mae\"], optimizer=\"adadelta\")"
   ]
  },
  {
   "cell_type": "code",
   "execution_count": 101,
   "metadata": {},
   "outputs": [
    {
     "name": "stdout",
     "output_type": "stream",
     "text": [
      "Train on 30000 samples, validate on 17149 samples\n",
      "Epoch 1/10\n",
      "30000/30000 [==============================] - 10s - loss: 30.0927 - mean_absolute_error: 5.1085 - val_loss: 2.0044 - val_mean_absolute_error: 1.1560\n",
      "Epoch 2/10\n",
      "30000/30000 [==============================] - 8s - loss: 2.1243 - mean_absolute_error: 1.1645 - val_loss: 1.6798 - val_mean_absolute_error: 1.0379\n",
      "Epoch 3/10\n",
      "30000/30000 [==============================] - 8s - loss: 1.8277 - mean_absolute_error: 1.0772 - val_loss: 1.6093 - val_mean_absolute_error: 1.0145\n",
      "Epoch 4/10\n",
      "30000/30000 [==============================] - 8s - loss: 1.6872 - mean_absolute_error: 1.0289 - val_loss: 1.5471 - val_mean_absolute_error: 0.9879\n",
      "Epoch 5/10\n",
      "30000/30000 [==============================] - 8s - loss: 1.5791 - mean_absolute_error: 0.9943 - val_loss: 1.5130 - val_mean_absolute_error: 0.9716\n",
      "Epoch 6/10\n",
      "30000/30000 [==============================] - 8s - loss: 1.5168 - mean_absolute_error: 0.9748 - val_loss: 1.4862 - val_mean_absolute_error: 0.9642\n",
      "Epoch 7/10\n",
      "30000/30000 [==============================] - 8s - loss: 1.4384 - mean_absolute_error: 0.9494 - val_loss: 1.4675 - val_mean_absolute_error: 0.9549\n",
      "Epoch 8/10\n",
      "30000/30000 [==============================] - 8s - loss: 1.4111 - mean_absolute_error: 0.9362 - val_loss: 1.4573 - val_mean_absolute_error: 0.9564\n",
      "Epoch 9/10\n",
      "30000/30000 [==============================] - 11s - loss: 1.3553 - mean_absolute_error: 0.9173 - val_loss: 1.4453 - val_mean_absolute_error: 0.9483\n",
      "Epoch 10/10\n",
      "30000/30000 [==============================] - 9s - loss: 1.3173 - mean_absolute_error: 0.9060 - val_loss: 1.4395 - val_mean_absolute_error: 0.9478\n"
     ]
    },
    {
     "data": {
      "text/plain": [
       "<keras.callbacks.History at 0x7f8736f0c650>"
      ]
     },
     "execution_count": 101,
     "metadata": {},
     "output_type": "execute_result"
    }
   ],
   "source": [
    "model.fit(x_train, y_train,\n",
    "          validation_data=(x_test, y_test),\n",
    "          epochs=10, batch_size=1000, verbose=1)"
   ]
  }
 ],
 "metadata": {
  "kernelspec": {
   "display_name": "Python 2",
   "language": "python",
   "name": "python2"
  },
  "language_info": {
   "codemirror_mode": {
    "name": "ipython",
    "version": 2
   },
   "file_extension": ".py",
   "mimetype": "text/x-python",
   "name": "python",
   "nbconvert_exporter": "python",
   "pygments_lexer": "ipython2",
   "version": "2.7.12"
  }
 },
 "nbformat": 4,
 "nbformat_minor": 2
}
