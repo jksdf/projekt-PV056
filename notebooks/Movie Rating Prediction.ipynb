{
 "cells": [
  {
   "cell_type": "code",
   "execution_count": 1,
   "metadata": {},
   "outputs": [
    {
     "name": "stdout",
     "output_type": "stream",
     "text": [
      "/home/luco/python/ml-imdb\n"
     ]
    }
   ],
   "source": [
    "cd .."
   ]
  },
  {
   "cell_type": "code",
   "execution_count": 2,
   "metadata": {
    "collapsed": true
   },
   "outputs": [],
   "source": [
    "%matplotlib inline\n",
    "import json\n",
    "import numpy as np\n",
    "import seaborn as sb"
   ]
  },
  {
   "cell_type": "markdown",
   "metadata": {},
   "source": [
    "# Movie Rating Prediction"
   ]
  },
  {
   "cell_type": "markdown",
   "metadata": {},
   "source": [
    "### We are going to predict average movies' ratings by looking at actors, directors and genres.\n",
    "\n",
    "Note: Actors, actresses and directors are smashed into a single list in the dataset"
   ]
  },
  {
   "cell_type": "markdown",
   "metadata": {},
   "source": [
    "## Parameters"
   ]
  },
  {
   "cell_type": "code",
   "execution_count": 3,
   "metadata": {
    "collapsed": true
   },
   "outputs": [],
   "source": [
    "TRAIN_RANGE = (1990, 2000)  # release years\n",
    "TEST_RANGE = (2000, 2005)  # release years\n",
    "MIN_ACTOR_FREQ = 10"
   ]
  },
  {
   "cell_type": "markdown",
   "metadata": {},
   "source": [
    "Here we have some parameters\n",
    "\n",
    "- extending lower bound of train set ===> training on far history ===> worse results\n",
    "- too low min. actor freq. (e.g. < 5) ===> data sparsity, noise ===> worse results"
   ]
  },
  {
   "cell_type": "markdown",
   "metadata": {},
   "source": [
    "## Load Movies"
   ]
  },
  {
   "cell_type": "code",
   "execution_count": 4,
   "metadata": {
    "collapsed": true
   },
   "outputs": [],
   "source": [
    "with open(\"./movie-dict-1970-2005.json\") as f:\n",
    "    json_data = json.load(f)"
   ]
  },
  {
   "cell_type": "code",
   "execution_count": 5,
   "metadata": {
    "collapsed": true
   },
   "outputs": [],
   "source": [
    "movies = [\n",
    "    (movie_name, movie_data)\n",
    "    for movie_name, movie_data\n",
    "    in json_data[\"data\"].items()\n",
    "    if \"actors\" in movie_data and\n",
    "    movie_data[\"year\"] >= TRAIN_RANGE[0]\n",
    "]"
   ]
  },
  {
   "cell_type": "code",
   "execution_count": 6,
   "metadata": {},
   "outputs": [
    {
     "data": {
      "text/plain": [
       "53302"
      ]
     },
     "execution_count": 6,
     "metadata": {},
     "output_type": "execute_result"
    }
   ],
   "source": [
    "len(movies)"
   ]
  },
  {
   "cell_type": "code",
   "execution_count": 7,
   "metadata": {},
   "outputs": [
    {
     "data": {
      "text/plain": [
       "(u'Country (2000)',\n",
       " {u'actors': [[u'Liddy, Kevin (I)', 0],\n",
       "   [u'Harrow, Lisa', u'1'],\n",
       "   [u'Cave, Des', u'2'],\n",
       "   [u'Lydon, Gary', u'3'],\n",
       "   [u'Plunkett, Marcella', u'4']],\n",
       "  u'btw': 0.0,\n",
       "  u'genres': [u'Drama'],\n",
       "  u'rating': 7.3,\n",
       "  u'votes': 42,\n",
       "  u'year': 2000})"
      ]
     },
     "execution_count": 7,
     "metadata": {},
     "output_type": "execute_result"
    }
   ],
   "source": [
    "movies[0]"
   ]
  },
  {
   "cell_type": "markdown",
   "metadata": {},
   "source": [
    "## Analysis of Actors"
   ]
  },
  {
   "cell_type": "code",
   "execution_count": 8,
   "metadata": {
    "collapsed": true
   },
   "outputs": [],
   "source": [
    "set_of_actors = set(\n",
    "    actor\n",
    "    for _, movie_data in movies\n",
    "    for actor, _ in movie_data[\"actors\"]\n",
    ")\n",
    "\n",
    "actor_freq = {actor: 0 for actor in set_of_actors}\n",
    "\n",
    "for _, movie_data in movies:\n",
    "    for actor, _ in movie_data[\"actors\"]:\n",
    "        actor_freq[actor] += 1"
   ]
  },
  {
   "cell_type": "code",
   "execution_count": 9,
   "metadata": {},
   "outputs": [
    {
     "data": {
      "text/plain": [
       "78972"
      ]
     },
     "execution_count": 9,
     "metadata": {},
     "output_type": "execute_result"
    }
   ],
   "source": [
    "len(set_of_actors)"
   ]
  },
  {
   "cell_type": "markdown",
   "metadata": {},
   "source": [
    "### Actor Freq Histogram"
   ]
  },
  {
   "cell_type": "code",
   "execution_count": 10,
   "metadata": {},
   "outputs": [
    {
     "data": {
      "text/plain": [
       "<matplotlib.axes._subplots.AxesSubplot at 0x7fe6026c7290>"
      ]
     },
     "execution_count": 10,
     "metadata": {},
     "output_type": "execute_result"
    },
    {
     "data": {
      "image/png": "[encoded data removed]",
      "text/plain": [
       "<matplotlib.figure.Figure at 0x7fe602f00590>"
      ]
     },
     "metadata": {},
     "output_type": "display_data"
    }
   ],
   "source": [
    "sb.distplot(\n",
    "    [freq for _, freq in actor_freq.items()\n",
    "     if freq < 11],\n",
    "    kde=False, bins=10\n",
    ")"
   ]
  },
  {
   "cell_type": "markdown",
   "metadata": {},
   "source": [
    "### The vast majority of actors occur just in a single movie.  That's called the data sparsity problem."
   ]
  },
  {
   "cell_type": "markdown",
   "metadata": {},
   "source": [
    "## Gettin' Rid of Data Sparsity"
   ]
  },
  {
   "cell_type": "markdown",
   "metadata": {},
   "source": [
    "Let's filter out actors occuring infrequently:"
   ]
  },
  {
   "cell_type": "code",
   "execution_count": 11,
   "metadata": {
    "collapsed": true
   },
   "outputs": [],
   "source": [
    "actors = {actor for actor, freq in actor_freq.items() if freq >= MIN_ACTOR_FREQ}"
   ]
  },
  {
   "cell_type": "code",
   "execution_count": 12,
   "metadata": {},
   "outputs": [
    {
     "data": {
      "text/plain": [
       "2188"
      ]
     },
     "execution_count": 12,
     "metadata": {},
     "output_type": "execute_result"
    }
   ],
   "source": [
    "len(actors)"
   ]
  },
  {
   "cell_type": "markdown",
   "metadata": {},
   "source": [
    "Now we need to filter out movies that do not contain any of the \"restricted\" actors."
   ]
  },
  {
   "cell_type": "code",
   "execution_count": 13,
   "metadata": {
    "collapsed": true
   },
   "outputs": [],
   "source": [
    "for _, movie_data in movies:\n",
    "    movie_data[\"actors\"] = {\n",
    "        actor for actor, __ in movie_data[\"actors\"]\n",
    "        if actor in actors\n",
    "    }\n",
    "\n",
    "movies = [\n",
    "    (movie_name, movie_data)\n",
    "    for movie_name, movie_data\n",
    "    in movies if len(movie_data[\"actors\"]) > 0\n",
    "]\n",
    "\n",
    "movies.sort(key=lambda (_, md): md[\"year\"])"
   ]
  },
  {
   "cell_type": "code",
   "execution_count": 14,
   "metadata": {},
   "outputs": [
    {
     "data": {
      "text/plain": [
       "20257"
      ]
     },
     "execution_count": 14,
     "metadata": {},
     "output_type": "execute_result"
    }
   ],
   "source": [
    "len(movies)"
   ]
  },
  {
   "cell_type": "markdown",
   "metadata": {
    "collapsed": true
   },
   "source": [
    "## Release Year Histogram"
   ]
  },
  {
   "cell_type": "code",
   "execution_count": 15,
   "metadata": {},
   "outputs": [
    {
     "data": {
      "text/plain": [
       "<matplotlib.axes._subplots.AxesSubplot at 0x7fe5f663d610>"
      ]
     },
     "execution_count": 15,
     "metadata": {},
     "output_type": "execute_result"
    },
    {
     "data": {
      "image/png": "[encoded data removed]",
      "text/plain": [
       "<matplotlib.figure.Figure at 0x7fe6026a1090>"
      ]
     },
     "metadata": {},
     "output_type": "display_data"
    }
   ],
   "source": [
    "sb.distplot(\n",
    "    [movie_data[\"year\"] for _, movie_data in movies],\n",
    "    kde=False, bins=15\n",
    ")"
   ]
  },
  {
   "cell_type": "markdown",
   "metadata": {},
   "source": [
    "## Baking Data"
   ]
  },
  {
   "cell_type": "code",
   "execution_count": 16,
   "metadata": {},
   "outputs": [
    {
     "data": {
      "text/plain": [
       "26"
      ]
     },
     "execution_count": 16,
     "metadata": {},
     "output_type": "execute_result"
    }
   ],
   "source": [
    "genres = set(\n",
    "    genre\n",
    "    for _, movie_data in movies\n",
    "    for genre in movie_data[\"genres\"]\n",
    ")\n",
    "len(genres)"
   ]
  },
  {
   "cell_type": "code",
   "execution_count": 17,
   "metadata": {
    "collapsed": true
   },
   "outputs": [],
   "source": [
    "actor2i = {actor: i for i, actor in enumerate(sorted(actors))}\n",
    "genre2i = {genre: i for i, genre in enumerate(sorted(genres))}"
   ]
  },
  {
   "cell_type": "markdown",
   "metadata": {},
   "source": [
    "### Vectorizing"
   ]
  },
  {
   "cell_type": "code",
   "execution_count": 18,
   "metadata": {
    "collapsed": true
   },
   "outputs": [],
   "source": [
    "data_x = np.zeros(shape=(len(movies), len(actors) + len(genres)), dtype=np.float32)  \n",
    "data_y = np.zeros(shape=(len(movies),1))\n",
    "\n",
    "for movie_index, (movie_name, movie_data)  in enumerate(movies):\n",
    "    \n",
    "    for actor in movie_data[\"actors\"]:\n",
    "        data_x[movie_index, actor2i[actor]] = 1\n",
    "\n",
    "    for genre in movie_data[\"genres\"]:\n",
    "        data_x[movie_index, len(actors) + genre2i[genre]] = 1 \n",
    "\n",
    "    data_y[movie_index,0] = movie_data[\"rating\"]"
   ]
  },
  {
   "cell_type": "code",
   "execution_count": 19,
   "metadata": {},
   "outputs": [
    {
     "data": {
      "text/plain": [
       "12950"
      ]
     },
     "execution_count": 19,
     "metadata": {},
     "output_type": "execute_result"
    }
   ],
   "source": [
    "threshold = min(i for i, (_, movie_data) in enumerate(movies) if movie_data[\"year\"] == 2000)\n",
    "threshold"
   ]
  },
  {
   "cell_type": "markdown",
   "metadata": {},
   "source": [
    "## Data for Training / Testing"
   ]
  },
  {
   "cell_type": "markdown",
   "metadata": {},
   "source": [
    "We divide the data into 2 parts - movies are sorted chronologically, so we will test models "
   ]
  },
  {
   "cell_type": "code",
   "execution_count": 20,
   "metadata": {
    "collapsed": true
   },
   "outputs": [],
   "source": [
    "x_train = data_x[:threshold,:]\n",
    "x_test = data_x[threshold:,:]\n",
    "\n",
    "y_train = data_y[:threshold]\n",
    "y_test = data_y[threshold:]"
   ]
  },
  {
   "cell_type": "code",
   "execution_count": 21,
   "metadata": {},
   "outputs": [
    {
     "data": {
      "text/plain": [
       "((12950, 2214), (12950, 1))"
      ]
     },
     "execution_count": 21,
     "metadata": {},
     "output_type": "execute_result"
    }
   ],
   "source": [
    "x_train.shape, y_train.shape"
   ]
  },
  {
   "cell_type": "markdown",
   "metadata": {},
   "source": [
    "# Models"
   ]
  },
  {
   "cell_type": "code",
   "execution_count": 22,
   "metadata": {},
   "outputs": [
    {
     "name": "stderr",
     "output_type": "stream",
     "text": [
      "Using TensorFlow backend.\n"
     ]
    }
   ],
   "source": [
    "from sklearn.svm import LinearSVR\n",
    "from sklearn.metrics import mean_squared_error, mean_absolute_error\n",
    "\n",
    "from keras.models import Sequential\n",
    "from keras.layers import Input, Dense, Dropout\n",
    "from keras.activations import relu\n",
    "from keras.optimizers import SGD"
   ]
  },
  {
   "cell_type": "markdown",
   "metadata": {},
   "source": [
    "## Baseline - Average Rating"
   ]
  },
  {
   "cell_type": "markdown",
   "metadata": {},
   "source": [
    "We use a simple baseline - compute the average average rating of movies in the train set ..."
   ]
  },
  {
   "cell_type": "code",
   "execution_count": 23,
   "metadata": {},
   "outputs": [
    {
     "data": {
      "text/plain": [
       "6.1392046332046339"
      ]
     },
     "execution_count": 23,
     "metadata": {},
     "output_type": "execute_result"
    }
   ],
   "source": [
    "avg_rating = np.average(y_train)\n",
    "avg_rating"
   ]
  },
  {
   "cell_type": "markdown",
   "metadata": {},
   "source": [
    "...  and use that value as a prediction for every single movie from the test set."
   ]
  },
  {
   "cell_type": "code",
   "execution_count": 24,
   "metadata": {
    "collapsed": true
   },
   "outputs": [],
   "source": [
    "avg_arr = np.full(shape=(len(y_test),), fill_value=avg_rating)"
   ]
  },
  {
   "cell_type": "code",
   "execution_count": 25,
   "metadata": {},
   "outputs": [
    {
     "data": {
      "text/plain": [
       "1.8748920498086437"
      ]
     },
     "execution_count": 25,
     "metadata": {},
     "output_type": "execute_result"
    }
   ],
   "source": [
    "mean_squared_error(avg_arr, y_test[:,0])"
   ]
  },
  {
   "cell_type": "code",
   "execution_count": 26,
   "metadata": {},
   "outputs": [
    {
     "data": {
      "text/plain": [
       "1.0819370678034972"
      ]
     },
     "execution_count": 26,
     "metadata": {},
     "output_type": "execute_result"
    }
   ],
   "source": [
    "mean_absolute_error(avg_arr, y_test[:,0])"
   ]
  },
  {
   "cell_type": "markdown",
   "metadata": {},
   "source": [
    "#### Absolute Error Distribution"
   ]
  },
  {
   "cell_type": "code",
   "execution_count": 27,
   "metadata": {},
   "outputs": [
    {
     "data": {
      "text/plain": [
       "<matplotlib.axes._subplots.AxesSubplot at 0x7fe5de2df610>"
      ]
     },
     "execution_count": 27,
     "metadata": {},
     "output_type": "execute_result"
    },
    {
     "data": {
      "image/png": "[encoded data removed]",
      "text/plain": [
       "<matplotlib.figure.Figure at 0x7fe5de2df090>"
      ]
     },
     "metadata": {},
     "output_type": "display_data"
    }
   ],
   "source": [
    "sb.distplot(np.abs(y_test[:,0] - avg_rating), kde=False)"
   ]
  },
  {
   "cell_type": "markdown",
   "metadata": {},
   "source": [
    "## Support Vector Regression"
   ]
  },
  {
   "cell_type": "markdown",
   "metadata": {},
   "source": [
    "Kernelized SVR took forever to train, so we use only linear SVR here."
   ]
  },
  {
   "cell_type": "code",
   "execution_count": 28,
   "metadata": {
    "collapsed": true
   },
   "outputs": [],
   "source": [
    "model = LinearSVR()"
   ]
  },
  {
   "cell_type": "code",
   "execution_count": 29,
   "metadata": {},
   "outputs": [
    {
     "data": {
      "text/plain": [
       "LinearSVR(C=1.0, dual=True, epsilon=0.0, fit_intercept=True,\n",
       "     intercept_scaling=1.0, loss='epsilon_insensitive', max_iter=1000,\n",
       "     random_state=None, tol=0.0001, verbose=0)"
      ]
     },
     "execution_count": 29,
     "metadata": {},
     "output_type": "execute_result"
    }
   ],
   "source": [
    "model.fit(x_train, y_train[:,0])"
   ]
  },
  {
   "cell_type": "code",
   "execution_count": 30,
   "metadata": {},
   "outputs": [
    {
     "data": {
      "text/plain": [
       "1.4471916162214098"
      ]
     },
     "execution_count": 30,
     "metadata": {},
     "output_type": "execute_result"
    }
   ],
   "source": [
    "mean_squared_error(model.predict(x_test), y_test[:,0])"
   ]
  },
  {
   "cell_type": "code",
   "execution_count": 31,
   "metadata": {},
   "outputs": [
    {
     "data": {
      "text/plain": [
       "0.92739608282540231"
      ]
     },
     "execution_count": 31,
     "metadata": {},
     "output_type": "execute_result"
    }
   ],
   "source": [
    "mean_absolute_error(model.predict(x_test), y_test[:,0])"
   ]
  },
  {
   "cell_type": "markdown",
   "metadata": {},
   "source": [
    "#### Absolute Error Distribution"
   ]
  },
  {
   "cell_type": "code",
   "execution_count": 32,
   "metadata": {},
   "outputs": [
    {
     "data": {
      "text/plain": [
       "<matplotlib.axes._subplots.AxesSubplot at 0x7fe5de1b0b10>"
      ]
     },
     "execution_count": 32,
     "metadata": {},
     "output_type": "execute_result"
    },
    {
     "data": {
      "image/png": "[encoded data removed]",
      "text/plain": [
       "<matplotlib.figure.Figure at 0x7fe6026a1410>"
      ]
     },
     "metadata": {},
     "output_type": "display_data"
    }
   ],
   "source": [
    "sb.distplot(np.abs(y_test[:,0] - model.predict(x_test)), kde=False)"
   ]
  },
  {
   "cell_type": "code",
   "execution_count": 33,
   "metadata": {
    "collapsed": true
   },
   "outputs": [],
   "source": [
    "del model  # to release memory"
   ]
  },
  {
   "cell_type": "markdown",
   "metadata": {},
   "source": [
    "## Feedforward Neural Network"
   ]
  },
  {
   "cell_type": "code",
   "execution_count": 34,
   "metadata": {
    "collapsed": true
   },
   "outputs": [],
   "source": [
    "model = Sequential()\n",
    "\n",
    "input_shape = (data_x.shape[1], )\n",
    "\n",
    "model.add(Dense(160, activation=relu, input_shape=input_shape))\n",
    "model.add(Dropout(0.4))\n",
    "model.add(Dense(160, activation=relu))\n",
    "model.add(Dropout(0.4))\n",
    "model.add(Dense(1, activation=relu))"
   ]
  },
  {
   "cell_type": "code",
   "execution_count": 35,
   "metadata": {
    "collapsed": true
   },
   "outputs": [],
   "source": [
    "model.compile(loss=\"mse\", metrics=[\"mae\"], optimizer=\"adadelta\")"
   ]
  },
  {
   "cell_type": "code",
   "execution_count": 36,
   "metadata": {},
   "outputs": [
    {
     "name": "stdout",
     "output_type": "stream",
     "text": [
      "Train on 12950 samples, validate on 7307 samples\n",
      "Epoch 1/25\n",
      "12950/12950 [==============================] - 1s - loss: 10.3711 - mean_absolute_error: 2.4880 - val_loss: 1.8753 - val_mean_absolute_error: 1.0807\n",
      "Epoch 2/25\n",
      "12950/12950 [==============================] - 1s - loss: 1.8268 - mean_absolute_error: 1.0770 - val_loss: 1.8626 - val_mean_absolute_error: 1.0896\n",
      "Epoch 3/25\n",
      "12950/12950 [==============================] - 1s - loss: 1.6199 - mean_absolute_error: 1.0071 - val_loss: 1.8153 - val_mean_absolute_error: 1.0589\n",
      "Epoch 4/25\n",
      "12950/12950 [==============================] - 1s - loss: 1.5490 - mean_absolute_error: 0.9815 - val_loss: 1.7145 - val_mean_absolute_error: 1.0284\n",
      "Epoch 5/25\n",
      "12950/12950 [==============================] - 1s - loss: 1.4609 - mean_absolute_error: 0.9501 - val_loss: 1.6370 - val_mean_absolute_error: 0.9990\n",
      "Epoch 6/25\n",
      "12950/12950 [==============================] - 1s - loss: 1.4054 - mean_absolute_error: 0.9284 - val_loss: 1.6061 - val_mean_absolute_error: 0.9896\n",
      "Epoch 7/25\n",
      "12950/12950 [==============================] - 1s - loss: 1.3809 - mean_absolute_error: 0.9196 - val_loss: 1.5881 - val_mean_absolute_error: 0.9832\n",
      "Epoch 8/25\n",
      "12950/12950 [==============================] - 1s - loss: 1.3590 - mean_absolute_error: 0.9148 - val_loss: 1.5762 - val_mean_absolute_error: 0.9781\n",
      "Epoch 9/25\n",
      "12950/12950 [==============================] - 1s - loss: 1.3361 - mean_absolute_error: 0.9040 - val_loss: 1.5741 - val_mean_absolute_error: 0.9732\n",
      "Epoch 10/25\n",
      "12950/12950 [==============================] - 1s - loss: 1.3219 - mean_absolute_error: 0.8979 - val_loss: 1.5466 - val_mean_absolute_error: 0.9685\n",
      "Epoch 11/25\n",
      "12950/12950 [==============================] - 1s - loss: 1.3065 - mean_absolute_error: 0.8939 - val_loss: 1.5345 - val_mean_absolute_error: 0.9756\n",
      "Epoch 12/25\n",
      "12950/12950 [==============================] - 1s - loss: 1.2907 - mean_absolute_error: 0.8883 - val_loss: 1.5203 - val_mean_absolute_error: 0.9606\n",
      "Epoch 13/25\n",
      "12950/12950 [==============================] - 1s - loss: 1.2535 - mean_absolute_error: 0.8756 - val_loss: 1.5021 - val_mean_absolute_error: 0.9539\n",
      "Epoch 14/25\n",
      "12950/12950 [==============================] - 1s - loss: 1.2350 - mean_absolute_error: 0.8684 - val_loss: 1.4796 - val_mean_absolute_error: 0.9468\n",
      "Epoch 15/25\n",
      "12950/12950 [==============================] - 1s - loss: 1.1968 - mean_absolute_error: 0.8541 - val_loss: 1.4520 - val_mean_absolute_error: 0.9395\n",
      "Epoch 16/25\n",
      "12950/12950 [==============================] - 1s - loss: 1.1761 - mean_absolute_error: 0.8447 - val_loss: 1.4407 - val_mean_absolute_error: 0.9305\n",
      "Epoch 17/25\n",
      "12950/12950 [==============================] - 1s - loss: 1.1285 - mean_absolute_error: 0.8265 - val_loss: 1.4375 - val_mean_absolute_error: 0.9252\n",
      "Epoch 18/25\n",
      "12950/12950 [==============================] - 1s - loss: 1.0989 - mean_absolute_error: 0.8173 - val_loss: 1.3780 - val_mean_absolute_error: 0.9112\n",
      "Epoch 19/25\n",
      "12950/12950 [==============================] - 1s - loss: 1.0578 - mean_absolute_error: 0.8011 - val_loss: 1.3704 - val_mean_absolute_error: 0.9040\n",
      "Epoch 20/25\n",
      "12950/12950 [==============================] - 1s - loss: 1.0288 - mean_absolute_error: 0.7919 - val_loss: 1.3751 - val_mean_absolute_error: 0.9053\n",
      "Epoch 21/25\n",
      "12950/12950 [==============================] - 1s - loss: 0.9952 - mean_absolute_error: 0.7756 - val_loss: 1.3324 - val_mean_absolute_error: 0.8953\n",
      "Epoch 22/25\n",
      "12950/12950 [==============================] - 1s - loss: 0.9633 - mean_absolute_error: 0.7653 - val_loss: 1.3543 - val_mean_absolute_error: 0.8946\n",
      "Epoch 23/25\n",
      "12950/12950 [==============================] - 1s - loss: 0.9468 - mean_absolute_error: 0.7564 - val_loss: 1.3401 - val_mean_absolute_error: 0.8923\n",
      "Epoch 24/25\n",
      "12950/12950 [==============================] - 1s - loss: 0.9346 - mean_absolute_error: 0.7500 - val_loss: 1.3069 - val_mean_absolute_error: 0.8884\n",
      "Epoch 25/25\n",
      "12950/12950 [==============================] - 1s - loss: 0.9073 - mean_absolute_error: 0.7406 - val_loss: 1.3038 - val_mean_absolute_error: 0.8824\n"
     ]
    },
    {
     "data": {
      "text/plain": [
       "<keras.callbacks.History at 0x7fe5fc5bc910>"
      ]
     },
     "execution_count": 36,
     "metadata": {},
     "output_type": "execute_result"
    }
   ],
   "source": [
    "model.fit(x_train, y_train,\n",
    "          validation_data=(x_test, y_test),\n",
    "          epochs=25, batch_size=500, verbose=1)"
   ]
  },
  {
   "cell_type": "markdown",
   "metadata": {},
   "source": [
    "#### Absolute Error Distribution"
   ]
  },
  {
   "cell_type": "code",
   "execution_count": 42,
   "metadata": {},
   "outputs": [
    {
     "data": {
      "text/plain": [
       "<matplotlib.axes._subplots.AxesSubplot at 0x7fe5be480610>"
      ]
     },
     "execution_count": 42,
     "metadata": {},
     "output_type": "execute_result"
    },
    {
     "data": {
      "image/png": "[encoded data removed]",
      "text/plain": [
       "<matplotlib.figure.Figure at 0x7fe5ddb23bd0>"
      ]
     },
     "metadata": {},
     "output_type": "display_data"
    }
   ],
   "source": [
    "sb.distplot(np.abs(y_test[:,0] - model.predict(x_test)[0]), kde=False)"
   ]
  },
  {
   "cell_type": "code",
   "execution_count": null,
   "metadata": {
    "collapsed": true
   },
   "outputs": [],
   "source": []
  }
 ],
 "metadata": {
  "kernelspec": {
   "display_name": "Python 2",
   "language": "python",
   "name": "python2"
  },
  "language_info": {
   "codemirror_mode": {
    "name": "ipython",
    "version": 2
   },
   "file_extension": ".py",
   "mimetype": "text/x-python",
   "name": "python",
   "nbconvert_exporter": "python",
   "pygments_lexer": "ipython2",
   "version": "2.7.12"
  }
 },
 "nbformat": 4,
 "nbformat_minor": 2
}
