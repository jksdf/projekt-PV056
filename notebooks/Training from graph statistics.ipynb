{
 "cells": [
  {
   "cell_type": "code",
   "execution_count": 1,
   "metadata": {},
   "outputs": [
    {
     "name": "stdout",
     "output_type": "stream",
     "text": [
      "/home/luco/python/ml-imdb\n"
     ]
    }
   ],
   "source": [
    "cd .."
   ]
  },
  {
   "cell_type": "markdown",
   "metadata": {},
   "source": [
    "# Movie Rating Prediction from Graph Statistics"
   ]
  },
  {
   "cell_type": "code",
   "execution_count": 2,
   "metadata": {},
   "outputs": [],
   "source": [
    "import json\n",
    "import numpy as np\n",
    "\n",
    "from commonstuff import *"
   ]
  },
  {
   "cell_type": "code",
   "execution_count": 3,
   "metadata": {},
   "outputs": [
    {
     "name": "stderr",
     "output_type": "stream",
     "text": [
      "Using TensorFlow backend.\n"
     ]
    }
   ],
   "source": [
    "from sklearn.preprocessing import normalize\n",
    "from sklearn.svm import LinearSVR\n",
    "from sklearn.metrics import mean_squared_error, mean_absolute_error\n",
    "\n",
    "from keras.models import Sequential\n",
    "from keras.layers import Input, Dense, Dropout\n",
    "from keras.activations import relu\n",
    "from keras.optimizers import SGD"
   ]
  },
  {
   "cell_type": "code",
   "execution_count": 4,
   "metadata": {
    "collapsed": true
   },
   "outputs": [],
   "source": [
    "def get_data(datafn, testfn, normalized=True):\n",
    "\n",
    "    with open(datafn) as file:\n",
    "        data = json.load(file)\n",
    "    with open(testfn) as file:\n",
    "        test = json.load(file)\n",
    "\n",
    "    x_train = np.array(map(lambda x: np.array(x['attributes'], dtype = 'f'), data['data']))\n",
    "    x_test = np.array(map(lambda x: np.array(x['attributes'], dtype = 'f'), test['data']))\n",
    "\n",
    "    if normalized:\n",
    "        # normalizing by features\n",
    "        # e.g. betweeness as a very high number corrupts models\n",
    "        normalize(x_train, axis=0, copy=False)\n",
    "        normalize(x_test, axis=0, copy=False)\n",
    "    \n",
    "    y_train = np.array(map(lambda x: x['target'], data['data']))\n",
    "    y_train = y_train.reshape(y_train.size,1).ravel()    \n",
    "    y_test = np.array(map(lambda x: x['target'], test['data']))\n",
    "    y_test = y_test.reshape(y_test.size,1).ravel()\n",
    "    \n",
    "    return x_train, y_train, x_test, y_test"
   ]
  },
  {
   "cell_type": "code",
   "execution_count": 13,
   "metadata": {
    "collapsed": true
   },
   "outputs": [],
   "source": [
    "train_fn = \"./data_1970_2000.json\"\n",
    "test_fn = \"./data_2000_2005.json\""
   ]
  },
  {
   "cell_type": "code",
   "execution_count": 14,
   "metadata": {},
   "outputs": [],
   "source": [
    "x_train, y_train, x_test, y_test = get_data(train_fn, test_fn)"
   ]
  },
  {
   "cell_type": "code",
   "execution_count": 15,
   "metadata": {},
   "outputs": [
    {
     "data": {
      "text/plain": [
       "((1778, 34), (1778,), (1280, 34), (1280,))"
      ]
     },
     "execution_count": 15,
     "metadata": {},
     "output_type": "execute_result"
    }
   ],
   "source": [
    "x_train.shape, y_train.shape, x_test.shape, y_test.shape"
   ]
  },
  {
   "cell_type": "markdown",
   "metadata": {},
   "source": [
    "## Support Vector Regression"
   ]
  },
  {
   "cell_type": "code",
   "execution_count": 16,
   "metadata": {},
   "outputs": [
    {
     "data": {
      "text/plain": [
       "LinearSVR(C=1.0, dual=True, epsilon=0.0, fit_intercept=True,\n",
       "     intercept_scaling=1.0, loss='epsilon_insensitive', max_iter=1000,\n",
       "     random_state=None, tol=0.0001, verbose=0)"
      ]
     },
     "execution_count": 16,
     "metadata": {},
     "output_type": "execute_result"
    }
   ],
   "source": [
    "model = LinearSVR()\n",
    "model.fit(x_train, y_train)"
   ]
  },
  {
   "cell_type": "code",
   "execution_count": 17,
   "metadata": {},
   "outputs": [
    {
     "data": {
      "text/plain": [
       "1.0456104102921533"
      ]
     },
     "execution_count": 17,
     "metadata": {},
     "output_type": "execute_result"
    }
   ],
   "source": [
    "mean_absolute_error(model.predict(x_test), y_test)"
   ]
  },
  {
   "cell_type": "markdown",
   "metadata": {},
   "source": [
    "## Feedforward Neural Net"
   ]
  },
  {
   "cell_type": "code",
   "execution_count": 21,
   "metadata": {},
   "outputs": [],
   "source": [
    "model = Sequential()\n",
    "\n",
    "input_shape = (x_train.shape[1], )\n",
    "\n",
    "model.add(Dense(160, activation=relu, input_shape=input_shape))\n",
    "model.add(Dropout(0.4))\n",
    "model.add(Dense(160, activation=relu))\n",
    "model.add(Dropout(0.4))\n",
    "model.add(Dense(1, activation=relu))"
   ]
  },
  {
   "cell_type": "code",
   "execution_count": 22,
   "metadata": {
    "collapsed": true
   },
   "outputs": [],
   "source": [
    "model.compile(loss=\"mse\", metrics=[\"mae\"], optimizer=\"adadelta\")"
   ]
  },
  {
   "cell_type": "code",
   "execution_count": 23,
   "metadata": {},
   "outputs": [
    {
     "name": "stdout",
     "output_type": "stream",
     "text": [
      "Train on 1778 samples, validate on 1280 samples\n",
      "Epoch 1/64\n",
      "1778/1778 [==============================] - 0s - loss: 39.5150 - mean_absolute_error: 6.1357 - val_loss: 41.0060 - val_mean_absolute_error: 6.2455\n",
      "Epoch 2/64\n",
      "1778/1778 [==============================] - 0s - loss: 38.7627 - mean_absolute_error: 6.0738 - val_loss: 39.7234 - val_mean_absolute_error: 6.1420\n",
      "Epoch 3/64\n",
      "1778/1778 [==============================] - 0s - loss: 37.2136 - mean_absolute_error: 5.9449 - val_loss: 36.8805 - val_mean_absolute_error: 5.9058\n",
      "Epoch 4/64\n",
      "1778/1778 [==============================] - 0s - loss: 33.5522 - mean_absolute_error: 5.6238 - val_loss: 29.8792 - val_mean_absolute_error: 5.2794\n",
      "Epoch 5/64\n",
      "1778/1778 [==============================] - 0s - loss: 24.5561 - mean_absolute_error: 4.7407 - val_loss: 14.7952 - val_mean_absolute_error: 3.5865\n",
      "Epoch 6/64\n",
      "1778/1778 [==============================] - 0s - loss: 9.4638 - mean_absolute_error: 2.7190 - val_loss: 2.7126 - val_mean_absolute_error: 1.3834\n",
      "Epoch 7/64\n",
      "1778/1778 [==============================] - 0s - loss: 2.8361 - mean_absolute_error: 1.3684 - val_loss: 2.0316 - val_mean_absolute_error: 1.1513\n",
      "Epoch 8/64\n",
      "1778/1778 [==============================] - 0s - loss: 2.7446 - mean_absolute_error: 1.3344 - val_loss: 1.9703 - val_mean_absolute_error: 1.1292\n",
      "Epoch 9/64\n",
      "1778/1778 [==============================] - 0s - loss: 2.5553 - mean_absolute_error: 1.2861 - val_loss: 1.9653 - val_mean_absolute_error: 1.1351\n",
      "Epoch 10/64\n",
      "1778/1778 [==============================] - 0s - loss: 2.4744 - mean_absolute_error: 1.2608 - val_loss: 1.8910 - val_mean_absolute_error: 1.1015\n",
      "Epoch 11/64\n",
      "1778/1778 [==============================] - 0s - loss: 2.5162 - mean_absolute_error: 1.2748 - val_loss: 1.8796 - val_mean_absolute_error: 1.1029\n",
      "Epoch 12/64\n",
      "1778/1778 [==============================] - 0s - loss: 2.3526 - mean_absolute_error: 1.2313 - val_loss: 1.8433 - val_mean_absolute_error: 1.0876\n",
      "Epoch 13/64\n",
      "1778/1778 [==============================] - 0s - loss: 2.4211 - mean_absolute_error: 1.2436 - val_loss: 1.8162 - val_mean_absolute_error: 1.0759\n",
      "Epoch 14/64\n",
      "1778/1778 [==============================] - 0s - loss: 2.3413 - mean_absolute_error: 1.2213 - val_loss: 1.8102 - val_mean_absolute_error: 1.0775\n",
      "Epoch 15/64\n",
      "1778/1778 [==============================] - 0s - loss: 2.3879 - mean_absolute_error: 1.2263 - val_loss: 1.7786 - val_mean_absolute_error: 1.0617\n",
      "Epoch 16/64\n",
      "1778/1778 [==============================] - 0s - loss: 2.3451 - mean_absolute_error: 1.2198 - val_loss: 1.7728 - val_mean_absolute_error: 1.0614\n",
      "Epoch 17/64\n",
      "1778/1778 [==============================] - 0s - loss: 2.2983 - mean_absolute_error: 1.2142 - val_loss: 1.7429 - val_mean_absolute_error: 1.0420\n",
      "Epoch 18/64\n",
      "1778/1778 [==============================] - 0s - loss: 2.2325 - mean_absolute_error: 1.2025 - val_loss: 1.7437 - val_mean_absolute_error: 1.0474\n",
      "Epoch 19/64\n",
      "1778/1778 [==============================] - 0s - loss: 2.2610 - mean_absolute_error: 1.1905 - val_loss: 1.7408 - val_mean_absolute_error: 1.0479\n",
      "Epoch 20/64\n",
      "1778/1778 [==============================] - 0s - loss: 2.3220 - mean_absolute_error: 1.2208 - val_loss: 1.7794 - val_mean_absolute_error: 1.0700\n",
      "Epoch 21/64\n",
      "1778/1778 [==============================] - 0s - loss: 2.3100 - mean_absolute_error: 1.2101 - val_loss: 1.7183 - val_mean_absolute_error: 1.0360\n",
      "Epoch 22/64\n",
      "1778/1778 [==============================] - 0s - loss: 2.1627 - mean_absolute_error: 1.1750 - val_loss: 1.7076 - val_mean_absolute_error: 1.0276\n",
      "Epoch 23/64\n",
      "1778/1778 [==============================] - 0s - loss: 2.2548 - mean_absolute_error: 1.1831 - val_loss: 1.7096 - val_mean_absolute_error: 1.0324\n",
      "Epoch 24/64\n",
      "1778/1778 [==============================] - 0s - loss: 2.2267 - mean_absolute_error: 1.1839 - val_loss: 1.7040 - val_mean_absolute_error: 1.0295\n",
      "Epoch 25/64\n",
      "1778/1778 [==============================] - 0s - loss: 2.1835 - mean_absolute_error: 1.1672 - val_loss: 1.7402 - val_mean_absolute_error: 1.0515\n",
      "Epoch 26/64\n",
      "1778/1778 [==============================] - 0s - loss: 2.1514 - mean_absolute_error: 1.1725 - val_loss: 1.6946 - val_mean_absolute_error: 1.0214\n",
      "Epoch 27/64\n",
      "1778/1778 [==============================] - 0s - loss: 2.2082 - mean_absolute_error: 1.1820 - val_loss: 1.7142 - val_mean_absolute_error: 1.0381\n",
      "Epoch 28/64\n",
      "1778/1778 [==============================] - 0s - loss: 2.1415 - mean_absolute_error: 1.1584 - val_loss: 1.7002 - val_mean_absolute_error: 1.0292\n",
      "Epoch 29/64\n",
      "1778/1778 [==============================] - 0s - loss: 2.2665 - mean_absolute_error: 1.1937 - val_loss: 1.7162 - val_mean_absolute_error: 1.0391\n",
      "Epoch 30/64\n",
      "1778/1778 [==============================] - 0s - loss: 2.1187 - mean_absolute_error: 1.1518 - val_loss: 1.7012 - val_mean_absolute_error: 1.0303\n",
      "Epoch 31/64\n",
      "1778/1778 [==============================] - 0s - loss: 2.1630 - mean_absolute_error: 1.1679 - val_loss: 1.7055 - val_mean_absolute_error: 1.0326\n",
      "Epoch 32/64\n",
      "1778/1778 [==============================] - 0s - loss: 2.1638 - mean_absolute_error: 1.1652 - val_loss: 1.7105 - val_mean_absolute_error: 1.0354\n",
      "Epoch 33/64\n",
      "1778/1778 [==============================] - 0s - loss: 2.1321 - mean_absolute_error: 1.1417 - val_loss: 1.6944 - val_mean_absolute_error: 1.0252\n",
      "Epoch 34/64\n",
      "1778/1778 [==============================] - 0s - loss: 2.0849 - mean_absolute_error: 1.1341 - val_loss: 1.7247 - val_mean_absolute_error: 1.0427\n",
      "Epoch 35/64\n",
      "1778/1778 [==============================] - 0s - loss: 2.1633 - mean_absolute_error: 1.1530 - val_loss: 1.7197 - val_mean_absolute_error: 1.0399\n",
      "Epoch 36/64\n",
      "1778/1778 [==============================] - 0s - loss: 2.0743 - mean_absolute_error: 1.1384 - val_loss: 1.7229 - val_mean_absolute_error: 1.0410\n",
      "Epoch 37/64\n",
      "1778/1778 [==============================] - 0s - loss: 2.0614 - mean_absolute_error: 1.1441 - val_loss: 1.7020 - val_mean_absolute_error: 1.0288\n",
      "Epoch 38/64\n",
      "1778/1778 [==============================] - 0s - loss: 2.1616 - mean_absolute_error: 1.1652 - val_loss: 1.6956 - val_mean_absolute_error: 1.0234\n",
      "Epoch 39/64\n",
      "1778/1778 [==============================] - 0s - loss: 2.0832 - mean_absolute_error: 1.1397 - val_loss: 1.7251 - val_mean_absolute_error: 1.0409\n",
      "Epoch 40/64\n",
      "1778/1778 [==============================] - 0s - loss: 1.9692 - mean_absolute_error: 1.1153 - val_loss: 1.7280 - val_mean_absolute_error: 1.0422\n",
      "Epoch 41/64\n",
      "1778/1778 [==============================] - 0s - loss: 2.0475 - mean_absolute_error: 1.1412 - val_loss: 1.7333 - val_mean_absolute_error: 1.0450\n",
      "Epoch 42/64\n",
      "1778/1778 [==============================] - 0s - loss: 2.0604 - mean_absolute_error: 1.1421 - val_loss: 1.7156 - val_mean_absolute_error: 1.0359\n",
      "Epoch 43/64\n",
      "1778/1778 [==============================] - 0s - loss: 2.1749 - mean_absolute_error: 1.1786 - val_loss: 1.7282 - val_mean_absolute_error: 1.0422\n",
      "Epoch 44/64\n",
      "1778/1778 [==============================] - 0s - loss: 2.0106 - mean_absolute_error: 1.1182 - val_loss: 1.7021 - val_mean_absolute_error: 1.0275\n",
      "Epoch 45/64\n",
      "1778/1778 [==============================] - 0s - loss: 2.0185 - mean_absolute_error: 1.1278 - val_loss: 1.7203 - val_mean_absolute_error: 1.0376\n",
      "Epoch 46/64\n",
      "1778/1778 [==============================] - 0s - loss: 2.0236 - mean_absolute_error: 1.1325 - val_loss: 1.7032 - val_mean_absolute_error: 1.0279\n",
      "Epoch 47/64\n",
      "1778/1778 [==============================] - 0s - loss: 2.0566 - mean_absolute_error: 1.1380 - val_loss: 1.7170 - val_mean_absolute_error: 1.0360\n",
      "Epoch 48/64\n",
      "1778/1778 [==============================] - 0s - loss: 2.0916 - mean_absolute_error: 1.1346 - val_loss: 1.6976 - val_mean_absolute_error: 1.0236\n",
      "Epoch 49/64\n",
      "1778/1778 [==============================] - 0s - loss: 2.1280 - mean_absolute_error: 1.1484 - val_loss: 1.7192 - val_mean_absolute_error: 1.0371\n",
      "Epoch 50/64\n",
      "1778/1778 [==============================] - 0s - loss: 2.0675 - mean_absolute_error: 1.1487 - val_loss: 1.7337 - val_mean_absolute_error: 1.0445\n",
      "Epoch 51/64\n",
      "1778/1778 [==============================] - 0s - loss: 2.1154 - mean_absolute_error: 1.1551 - val_loss: 1.7135 - val_mean_absolute_error: 1.0338\n",
      "Epoch 52/64\n"
     ]
    },
    {
     "name": "stdout",
     "output_type": "stream",
     "text": [
      "1778/1778 [==============================] - 0s - loss: 2.1179 - mean_absolute_error: 1.1433 - val_loss: 1.7052 - val_mean_absolute_error: 1.0286\n",
      "Epoch 53/64\n",
      "1778/1778 [==============================] - 0s - loss: 1.9837 - mean_absolute_error: 1.1043 - val_loss: 1.6998 - val_mean_absolute_error: 1.0250\n",
      "Epoch 54/64\n",
      "1778/1778 [==============================] - 0s - loss: 2.0921 - mean_absolute_error: 1.1554 - val_loss: 1.7062 - val_mean_absolute_error: 1.0288\n",
      "Epoch 55/64\n",
      "1778/1778 [==============================] - 0s - loss: 2.0934 - mean_absolute_error: 1.1500 - val_loss: 1.7129 - val_mean_absolute_error: 1.0324\n",
      "Epoch 56/64\n",
      "1778/1778 [==============================] - 0s - loss: 2.0684 - mean_absolute_error: 1.1446 - val_loss: 1.7359 - val_mean_absolute_error: 1.0455\n",
      "Epoch 57/64\n",
      "1778/1778 [==============================] - 0s - loss: 2.0692 - mean_absolute_error: 1.1471 - val_loss: 1.6981 - val_mean_absolute_error: 1.0227\n",
      "Epoch 58/64\n",
      "1778/1778 [==============================] - 0s - loss: 2.0058 - mean_absolute_error: 1.1228 - val_loss: 1.7077 - val_mean_absolute_error: 1.0303\n",
      "Epoch 59/64\n",
      "1778/1778 [==============================] - 0s - loss: 2.0279 - mean_absolute_error: 1.1293 - val_loss: 1.6986 - val_mean_absolute_error: 1.0255\n",
      "Epoch 60/64\n",
      "1778/1778 [==============================] - 0s - loss: 1.9975 - mean_absolute_error: 1.1152 - val_loss: 1.6978 - val_mean_absolute_error: 1.0245\n",
      "Epoch 61/64\n",
      "1778/1778 [==============================] - 0s - loss: 1.9893 - mean_absolute_error: 1.1234 - val_loss: 1.7196 - val_mean_absolute_error: 1.0375\n",
      "Epoch 62/64\n",
      "1778/1778 [==============================] - 0s - loss: 2.0821 - mean_absolute_error: 1.1463 - val_loss: 1.7130 - val_mean_absolute_error: 1.0339\n",
      "Epoch 63/64\n",
      "1778/1778 [==============================] - 0s - loss: 1.9952 - mean_absolute_error: 1.1264 - val_loss: 1.7000 - val_mean_absolute_error: 1.0261\n",
      "Epoch 64/64\n",
      "1778/1778 [==============================] - 0s - loss: 1.9408 - mean_absolute_error: 1.1040 - val_loss: 1.6990 - val_mean_absolute_error: 1.0251\n"
     ]
    },
    {
     "data": {
      "text/plain": [
       "<keras.callbacks.History at 0x7f9756595310>"
      ]
     },
     "execution_count": 23,
     "metadata": {},
     "output_type": "execute_result"
    }
   ],
   "source": [
    "model.fit(x_train, y_train,\n",
    "          validation_data=(x_test, y_test),\n",
    "          epochs=64, batch_size=500, verbose=1)"
   ]
  },
  {
   "cell_type": "code",
   "execution_count": null,
   "metadata": {
    "collapsed": true
   },
   "outputs": [],
   "source": []
  }
 ],
 "metadata": {
  "kernelspec": {
   "display_name": "Python 2",
   "language": "python",
   "name": "python2"
  },
  "language_info": {
   "codemirror_mode": {
    "name": "ipython",
    "version": 2
   },
   "file_extension": ".py",
   "mimetype": "text/x-python",
   "name": "python",
   "nbconvert_exporter": "python",
   "pygments_lexer": "ipython2",
   "version": "2.7.12"
  }
 },
 "nbformat": 4,
 "nbformat_minor": 2
}
