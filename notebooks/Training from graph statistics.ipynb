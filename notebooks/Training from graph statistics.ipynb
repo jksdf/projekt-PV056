{
 "cells": [
  {
   "cell_type": "code",
   "execution_count": 1,
   "metadata": {},
   "outputs": [
    {
     "name": "stdout",
     "output_type": "stream",
     "text": [
      "/home/luco/python/ml-imdb\n"
     ]
    }
   ],
   "source": [
    "cd .."
   ]
  },
  {
   "cell_type": "markdown",
   "metadata": {},
   "source": [
    "# Movie Rating Prediction from Graph Statistics"
   ]
  },
  {
   "cell_type": "code",
   "execution_count": 2,
   "metadata": {},
   "outputs": [],
   "source": [
    "import json\n",
    "import numpy as np\n",
    "\n",
    "from commonstuff import *"
   ]
  },
  {
   "cell_type": "code",
   "execution_count": 3,
   "metadata": {},
   "outputs": [
    {
     "name": "stderr",
     "output_type": "stream",
     "text": [
      "Using TensorFlow backend.\n"
     ]
    }
   ],
   "source": [
    "from sklearn.preprocessing import normalize\n",
    "from sklearn.svm import LinearSVR\n",
    "from sklearn.metrics import mean_squared_error, mean_absolute_error\n",
    "\n",
    "from keras.models import Sequential\n",
    "from keras.layers import Input, Dense, Dropout\n",
    "from keras.activations import relu\n",
    "from keras.optimizers import SGD"
   ]
  },
  {
   "cell_type": "code",
   "execution_count": 13,
   "metadata": {
    "collapsed": true
   },
   "outputs": [],
   "source": [
    "def get_data(datafn, testfn, normalized=True):\n",
    "\n",
    "    with open(datafn) as file:\n",
    "        data = json.load(file)\n",
    "    with open(testfn) as file:\n",
    "        test = json.load(file)\n",
    "\n",
    "    x_train = np.array(map(lambda x: np.array(x['attributes'], dtype = 'f'), data['data']))\n",
    "    x_test = np.array(map(lambda x: np.array(x['attributes'], dtype = 'f'), test['data']))\n",
    "\n",
    "    if normalized:\n",
    "        # normalizing by features\n",
    "        # e.g. betweeness as a very high number corrupts models\n",
    "        normalize(x_train, axis=0, copy=False)\n",
    "        normalize(x_test, axis=0, copy=False)\n",
    "    \n",
    "    y_train = np.array(map(lambda x: int(round(x['target'])), data['data']))\n",
    "    y_train = y_train.reshape(y_train.size,1).ravel()    \n",
    "    y_test = np.array(map(lambda x: int(round(x['target'])), test['data']))\n",
    "    y_test = y_test.reshape(y_test.size,1).ravel()\n",
    "    \n",
    "    return x_train, y_train, x_test, y_test"
   ]
  },
  {
   "cell_type": "code",
   "execution_count": 14,
   "metadata": {
    "collapsed": true
   },
   "outputs": [],
   "source": [
    "train_fn = \"./data_1980_2000.json\"\n",
    "test_fn = \"./data_2000_2005.json\""
   ]
  },
  {
   "cell_type": "code",
   "execution_count": 15,
   "metadata": {},
   "outputs": [],
   "source": [
    "x_train, y_train, x_test, y_test = get_data(train_fn, test_fn)"
   ]
  },
  {
   "cell_type": "code",
   "execution_count": 16,
   "metadata": {},
   "outputs": [
    {
     "data": {
      "text/plain": [
       "((1713, 34), (1713,), (1280, 34), (1280,))"
      ]
     },
     "execution_count": 16,
     "metadata": {},
     "output_type": "execute_result"
    }
   ],
   "source": [
    "x_train.shape, y_train.shape, x_test.shape, y_test.shape"
   ]
  },
  {
   "cell_type": "markdown",
   "metadata": {},
   "source": [
    "## Support Vector Regression"
   ]
  },
  {
   "cell_type": "code",
   "execution_count": 17,
   "metadata": {},
   "outputs": [
    {
     "data": {
      "text/plain": [
       "LinearSVR(C=1.0, dual=True, epsilon=0.0, fit_intercept=True,\n",
       "     intercept_scaling=1.0, loss='epsilon_insensitive', max_iter=1000,\n",
       "     random_state=None, tol=0.0001, verbose=0)"
      ]
     },
     "execution_count": 17,
     "metadata": {},
     "output_type": "execute_result"
    }
   ],
   "source": [
    "model = LinearSVR()\n",
    "model.fit(x_train, y_train)"
   ]
  },
  {
   "cell_type": "code",
   "execution_count": 18,
   "metadata": {},
   "outputs": [
    {
     "data": {
      "text/plain": [
       "1.0828771047420482"
      ]
     },
     "execution_count": 18,
     "metadata": {},
     "output_type": "execute_result"
    }
   ],
   "source": [
    "mean_absolute_error(model.predict(x_test), y_test)"
   ]
  },
  {
   "cell_type": "markdown",
   "metadata": {},
   "source": [
    "## Feedforward Neural Net"
   ]
  },
  {
   "cell_type": "code",
   "execution_count": 19,
   "metadata": {},
   "outputs": [],
   "source": [
    "model = Sequential()\n",
    "\n",
    "input_shape = (x_train.shape[1], )\n",
    "\n",
    "model.add(Dense(160, activation=relu, input_shape=input_shape))\n",
    "model.add(Dropout(0.4))\n",
    "model.add(Dense(160, activation=relu))\n",
    "model.add(Dropout(0.4))\n",
    "model.add(Dense(1, activation=relu))"
   ]
  },
  {
   "cell_type": "code",
   "execution_count": 20,
   "metadata": {
    "collapsed": true
   },
   "outputs": [],
   "source": [
    "model.compile(loss=\"mse\", metrics=[\"mae\"], optimizer=\"adadelta\")"
   ]
  },
  {
   "cell_type": "code",
   "execution_count": 21,
   "metadata": {},
   "outputs": [
    {
     "name": "stdout",
     "output_type": "stream",
     "text": [
      "Train on 1713 samples, validate on 1280 samples\n",
      "Epoch 1/100\n",
      "1713/1713 [==============================] - 0s - loss: 40.0895 - mean_absolute_error: 6.1769 - val_loss: 41.8153 - val_mean_absolute_error: 6.3029\n",
      "Epoch 2/100\n",
      "1713/1713 [==============================] - 0s - loss: 39.4193 - mean_absolute_error: 6.1221 - val_loss: 40.7537 - val_mean_absolute_error: 6.2182\n",
      "Epoch 3/100\n",
      "1713/1713 [==============================] - 0s - loss: 38.2033 - mean_absolute_error: 6.0217 - val_loss: 38.5046 - val_mean_absolute_error: 6.0350\n",
      "Epoch 4/100\n",
      "1713/1713 [==============================] - 0s - loss: 35.2952 - mean_absolute_error: 5.7741 - val_loss: 32.8627 - val_mean_absolute_error: 5.5481\n",
      "Epoch 5/100\n",
      "1713/1713 [==============================] - 0s - loss: 27.9633 - mean_absolute_error: 5.0895 - val_loss: 19.8079 - val_mean_absolute_error: 4.2155\n",
      "Epoch 6/100\n",
      "1713/1713 [==============================] - 0s - loss: 13.8012 - mean_absolute_error: 3.3989 - val_loss: 4.4632 - val_mean_absolute_error: 1.8278\n",
      "Epoch 7/100\n",
      "1713/1713 [==============================] - 0s - loss: 3.5249 - mean_absolute_error: 1.5620 - val_loss: 2.1760 - val_mean_absolute_error: 1.1884\n",
      "Epoch 8/100\n",
      "1713/1713 [==============================] - 0s - loss: 2.6227 - mean_absolute_error: 1.3037 - val_loss: 2.0793 - val_mean_absolute_error: 1.1519\n",
      "Epoch 9/100\n",
      "1713/1713 [==============================] - 0s - loss: 2.7850 - mean_absolute_error: 1.3352 - val_loss: 2.0201 - val_mean_absolute_error: 1.1313\n",
      "Epoch 10/100\n",
      "1713/1713 [==============================] - 0s - loss: 2.6092 - mean_absolute_error: 1.2931 - val_loss: 2.0595 - val_mean_absolute_error: 1.1519\n",
      "Epoch 11/100\n",
      "1713/1713 [==============================] - 0s - loss: 2.4072 - mean_absolute_error: 1.2376 - val_loss: 1.9626 - val_mean_absolute_error: 1.1135\n",
      "Epoch 12/100\n",
      "1713/1713 [==============================] - 0s - loss: 2.4597 - mean_absolute_error: 1.2403 - val_loss: 1.9526 - val_mean_absolute_error: 1.1114\n",
      "Epoch 13/100\n",
      "1713/1713 [==============================] - 0s - loss: 2.4795 - mean_absolute_error: 1.2639 - val_loss: 1.9291 - val_mean_absolute_error: 1.1028\n",
      "Epoch 14/100\n",
      "1713/1713 [==============================] - 0s - loss: 2.4631 - mean_absolute_error: 1.2612 - val_loss: 1.9154 - val_mean_absolute_error: 1.0981\n",
      "Epoch 15/100\n",
      "1713/1713 [==============================] - 0s - loss: 2.4253 - mean_absolute_error: 1.2480 - val_loss: 1.8916 - val_mean_absolute_error: 1.0891\n",
      "Epoch 16/100\n",
      "1713/1713 [==============================] - 0s - loss: 2.4069 - mean_absolute_error: 1.2394 - val_loss: 1.9002 - val_mean_absolute_error: 1.0936\n",
      "Epoch 17/100\n",
      "1713/1713 [==============================] - 0s - loss: 2.4468 - mean_absolute_error: 1.2546 - val_loss: 1.8666 - val_mean_absolute_error: 1.0805\n",
      "Epoch 18/100\n",
      "1713/1713 [==============================] - 0s - loss: 2.3391 - mean_absolute_error: 1.2138 - val_loss: 1.8552 - val_mean_absolute_error: 1.0765\n",
      "Epoch 19/100\n",
      "1713/1713 [==============================] - 0s - loss: 2.3763 - mean_absolute_error: 1.2293 - val_loss: 1.8732 - val_mean_absolute_error: 1.0848\n",
      "Epoch 20/100\n",
      "1713/1713 [==============================] - 0s - loss: 2.2726 - mean_absolute_error: 1.2017 - val_loss: 1.8378 - val_mean_absolute_error: 1.0710\n",
      "Epoch 21/100\n",
      "1713/1713 [==============================] - 0s - loss: 2.3005 - mean_absolute_error: 1.1993 - val_loss: 1.8439 - val_mean_absolute_error: 1.0747\n",
      "Epoch 22/100\n",
      "1713/1713 [==============================] - 0s - loss: 2.2720 - mean_absolute_error: 1.1952 - val_loss: 1.8447 - val_mean_absolute_error: 1.0756\n",
      "Epoch 23/100\n",
      "1713/1713 [==============================] - 0s - loss: 2.2881 - mean_absolute_error: 1.2011 - val_loss: 1.8166 - val_mean_absolute_error: 1.0627\n",
      "Epoch 24/100\n",
      "1713/1713 [==============================] - 0s - loss: 2.3106 - mean_absolute_error: 1.2030 - val_loss: 1.8639 - val_mean_absolute_error: 1.0846\n",
      "Epoch 25/100\n",
      "1713/1713 [==============================] - 0s - loss: 2.2499 - mean_absolute_error: 1.1928 - val_loss: 1.8223 - val_mean_absolute_error: 1.0673\n",
      "Epoch 26/100\n",
      "1713/1713 [==============================] - 0s - loss: 2.2282 - mean_absolute_error: 1.1877 - val_loss: 1.8430 - val_mean_absolute_error: 1.0764\n",
      "Epoch 27/100\n",
      "1713/1713 [==============================] - 0s - loss: 2.2436 - mean_absolute_error: 1.1871 - val_loss: 1.8110 - val_mean_absolute_error: 1.0617\n",
      "Epoch 28/100\n",
      "1713/1713 [==============================] - 0s - loss: 2.2473 - mean_absolute_error: 1.1938 - val_loss: 1.8344 - val_mean_absolute_error: 1.0733\n",
      "Epoch 29/100\n",
      "1713/1713 [==============================] - 0s - loss: 2.2829 - mean_absolute_error: 1.1883 - val_loss: 1.8583 - val_mean_absolute_error: 1.0841\n",
      "Epoch 30/100\n",
      "1713/1713 [==============================] - 0s - loss: 2.2720 - mean_absolute_error: 1.2033 - val_loss: 1.8210 - val_mean_absolute_error: 1.0677\n",
      "Epoch 31/100\n",
      "1713/1713 [==============================] - 0s - loss: 2.2224 - mean_absolute_error: 1.1766 - val_loss: 1.8373 - val_mean_absolute_error: 1.0753\n",
      "Epoch 32/100\n",
      "1713/1713 [==============================] - 0s - loss: 2.1637 - mean_absolute_error: 1.1770 - val_loss: 1.8387 - val_mean_absolute_error: 1.0761\n",
      "Epoch 33/100\n",
      "1713/1713 [==============================] - 0s - loss: 2.1717 - mean_absolute_error: 1.1731 - val_loss: 1.8055 - val_mean_absolute_error: 1.0580\n",
      "Epoch 34/100\n",
      "1713/1713 [==============================] - 0s - loss: 2.1798 - mean_absolute_error: 1.1707 - val_loss: 1.8163 - val_mean_absolute_error: 1.0654\n",
      "Epoch 35/100\n",
      "1713/1713 [==============================] - 0s - loss: 2.1708 - mean_absolute_error: 1.1614 - val_loss: 1.8335 - val_mean_absolute_error: 1.0743\n",
      "Epoch 36/100\n",
      "1713/1713 [==============================] - 0s - loss: 2.1373 - mean_absolute_error: 1.1684 - val_loss: 1.8480 - val_mean_absolute_error: 1.0811\n",
      "Epoch 37/100\n",
      "1713/1713 [==============================] - 0s - loss: 2.1624 - mean_absolute_error: 1.1648 - val_loss: 1.8125 - val_mean_absolute_error: 1.0634\n",
      "Epoch 38/100\n",
      "1713/1713 [==============================] - 0s - loss: 2.1372 - mean_absolute_error: 1.1634 - val_loss: 1.8089 - val_mean_absolute_error: 1.0615\n",
      "Epoch 39/100\n",
      "1713/1713 [==============================] - 0s - loss: 2.2528 - mean_absolute_error: 1.1950 - val_loss: 1.8291 - val_mean_absolute_error: 1.0724\n",
      "Epoch 40/100\n",
      "1713/1713 [==============================] - 0s - loss: 2.1432 - mean_absolute_error: 1.1533 - val_loss: 1.8328 - val_mean_absolute_error: 1.0746\n",
      "Epoch 41/100\n",
      "1713/1713 [==============================] - 0s - loss: 2.1410 - mean_absolute_error: 1.1686 - val_loss: 1.8161 - val_mean_absolute_error: 1.0650\n",
      "Epoch 42/100\n",
      "1713/1713 [==============================] - 0s - loss: 2.1835 - mean_absolute_error: 1.1698 - val_loss: 1.8388 - val_mean_absolute_error: 1.0773\n",
      "Epoch 43/100\n",
      "1713/1713 [==============================] - 0s - loss: 2.0638 - mean_absolute_error: 1.1410 - val_loss: 1.8281 - val_mean_absolute_error: 1.0726\n",
      "Epoch 44/100\n",
      "1713/1713 [==============================] - 0s - loss: 2.0913 - mean_absolute_error: 1.1435 - val_loss: 1.8066 - val_mean_absolute_error: 1.0571\n",
      "Epoch 45/100\n",
      "1713/1713 [==============================] - 0s - loss: 2.1647 - mean_absolute_error: 1.1692 - val_loss: 1.8081 - val_mean_absolute_error: 1.0579\n",
      "Epoch 46/100\n",
      "1713/1713 [==============================] - 0s - loss: 2.1900 - mean_absolute_error: 1.1690 - val_loss: 1.8100 - val_mean_absolute_error: 1.0591\n",
      "Epoch 47/100\n",
      "1713/1713 [==============================] - 0s - loss: 2.1286 - mean_absolute_error: 1.1515 - val_loss: 1.8227 - val_mean_absolute_error: 1.0692\n",
      "Epoch 48/100\n",
      "1713/1713 [==============================] - 0s - loss: 2.1913 - mean_absolute_error: 1.1763 - val_loss: 1.8697 - val_mean_absolute_error: 1.0915\n",
      "Epoch 49/100\n",
      "1713/1713 [==============================] - 0s - loss: 2.1250 - mean_absolute_error: 1.1533 - val_loss: 1.8226 - val_mean_absolute_error: 1.0700\n",
      "Epoch 50/100\n",
      "1713/1713 [==============================] - 0s - loss: 2.0631 - mean_absolute_error: 1.1342 - val_loss: 1.8126 - val_mean_absolute_error: 1.0633\n",
      "Epoch 51/100\n",
      "1713/1713 [==============================] - 0s - loss: 2.1040 - mean_absolute_error: 1.1489 - val_loss: 1.8241 - val_mean_absolute_error: 1.0707\n",
      "Epoch 52/100\n"
     ]
    },
    {
     "name": "stdout",
     "output_type": "stream",
     "text": [
      "1713/1713 [==============================] - 0s - loss: 2.0948 - mean_absolute_error: 1.1514 - val_loss: 1.8113 - val_mean_absolute_error: 1.0626\n",
      "Epoch 53/100\n",
      "1713/1713 [==============================] - 0s - loss: 2.0949 - mean_absolute_error: 1.1450 - val_loss: 1.8046 - val_mean_absolute_error: 1.0561\n",
      "Epoch 54/100\n",
      "1713/1713 [==============================] - 0s - loss: 2.1607 - mean_absolute_error: 1.1681 - val_loss: 1.8483 - val_mean_absolute_error: 1.0829\n",
      "Epoch 55/100\n",
      "1713/1713 [==============================] - 0s - loss: 2.0859 - mean_absolute_error: 1.1423 - val_loss: 1.8407 - val_mean_absolute_error: 1.0796\n",
      "Epoch 56/100\n",
      "1713/1713 [==============================] - 0s - loss: 2.0399 - mean_absolute_error: 1.1411 - val_loss: 1.8011 - val_mean_absolute_error: 1.0502\n",
      "Epoch 57/100\n",
      "1713/1713 [==============================] - 0s - loss: 2.1549 - mean_absolute_error: 1.1621 - val_loss: 1.8393 - val_mean_absolute_error: 1.0791\n",
      "Epoch 58/100\n",
      "1713/1713 [==============================] - 0s - loss: 2.0876 - mean_absolute_error: 1.1453 - val_loss: 1.8636 - val_mean_absolute_error: 1.0896\n",
      "Epoch 59/100\n",
      "1713/1713 [==============================] - 0s - loss: 2.0676 - mean_absolute_error: 1.1441 - val_loss: 1.8091 - val_mean_absolute_error: 1.0616\n",
      "Epoch 60/100\n",
      "1713/1713 [==============================] - 0s - loss: 2.0995 - mean_absolute_error: 1.1359 - val_loss: 1.8667 - val_mean_absolute_error: 1.0905\n",
      "Epoch 61/100\n",
      "1713/1713 [==============================] - 0s - loss: 2.1159 - mean_absolute_error: 1.1511 - val_loss: 1.8406 - val_mean_absolute_error: 1.0793\n",
      "Epoch 62/100\n",
      "1713/1713 [==============================] - 0s - loss: 2.1228 - mean_absolute_error: 1.1568 - val_loss: 1.8131 - val_mean_absolute_error: 1.0639\n",
      "Epoch 63/100\n",
      "1713/1713 [==============================] - 0s - loss: 2.1291 - mean_absolute_error: 1.1519 - val_loss: 1.8137 - val_mean_absolute_error: 1.0641\n",
      "Epoch 64/100\n",
      "1713/1713 [==============================] - 0s - loss: 2.1014 - mean_absolute_error: 1.1364 - val_loss: 1.8083 - val_mean_absolute_error: 1.0597\n",
      "Epoch 65/100\n",
      "1713/1713 [==============================] - 0s - loss: 2.1014 - mean_absolute_error: 1.1477 - val_loss: 1.8462 - val_mean_absolute_error: 1.0809\n",
      "Epoch 66/100\n",
      "1713/1713 [==============================] - 0s - loss: 2.1114 - mean_absolute_error: 1.1525 - val_loss: 1.8369 - val_mean_absolute_error: 1.0763\n",
      "Epoch 67/100\n",
      "1713/1713 [==============================] - 0s - loss: 2.0597 - mean_absolute_error: 1.1377 - val_loss: 1.8388 - val_mean_absolute_error: 1.0770\n",
      "Epoch 68/100\n",
      "1713/1713 [==============================] - 0s - loss: 2.0007 - mean_absolute_error: 1.1142 - val_loss: 1.8631 - val_mean_absolute_error: 1.0880\n",
      "Epoch 69/100\n",
      "1713/1713 [==============================] - 0s - loss: 2.0825 - mean_absolute_error: 1.1431 - val_loss: 1.8194 - val_mean_absolute_error: 1.0663\n",
      "Epoch 70/100\n",
      "1713/1713 [==============================] - 0s - loss: 2.0261 - mean_absolute_error: 1.1336 - val_loss: 1.8050 - val_mean_absolute_error: 1.0515\n",
      "Epoch 71/100\n",
      "1713/1713 [==============================] - 0s - loss: 2.0149 - mean_absolute_error: 1.1166 - val_loss: 1.8144 - val_mean_absolute_error: 1.0619\n",
      "Epoch 72/100\n",
      "1713/1713 [==============================] - 0s - loss: 2.0125 - mean_absolute_error: 1.1298 - val_loss: 1.8131 - val_mean_absolute_error: 1.0616\n",
      "Epoch 73/100\n",
      "1713/1713 [==============================] - 0s - loss: 2.0593 - mean_absolute_error: 1.1339 - val_loss: 1.8210 - val_mean_absolute_error: 1.0666\n",
      "Epoch 74/100\n",
      "1713/1713 [==============================] - 0s - loss: 2.0580 - mean_absolute_error: 1.1374 - val_loss: 1.8343 - val_mean_absolute_error: 1.0741\n",
      "Epoch 75/100\n",
      "1713/1713 [==============================] - 0s - loss: 1.9781 - mean_absolute_error: 1.1145 - val_loss: 1.8324 - val_mean_absolute_error: 1.0730\n",
      "Epoch 76/100\n",
      "1713/1713 [==============================] - 0s - loss: 1.9732 - mean_absolute_error: 1.1129 - val_loss: 1.8274 - val_mean_absolute_error: 1.0704\n",
      "Epoch 77/100\n",
      "1713/1713 [==============================] - 0s - loss: 2.0971 - mean_absolute_error: 1.1361 - val_loss: 1.8055 - val_mean_absolute_error: 1.0549\n",
      "Epoch 78/100\n",
      "1713/1713 [==============================] - 0s - loss: 2.1256 - mean_absolute_error: 1.1533 - val_loss: 1.8038 - val_mean_absolute_error: 1.0511\n",
      "Epoch 79/100\n",
      "1713/1713 [==============================] - 0s - loss: 2.0594 - mean_absolute_error: 1.1365 - val_loss: 1.8089 - val_mean_absolute_error: 1.0586\n",
      "Epoch 80/100\n",
      "1713/1713 [==============================] - 0s - loss: 2.0342 - mean_absolute_error: 1.1199 - val_loss: 1.8272 - val_mean_absolute_error: 1.0709\n",
      "Epoch 81/100\n",
      "1713/1713 [==============================] - 0s - loss: 2.1187 - mean_absolute_error: 1.1385 - val_loss: 1.8045 - val_mean_absolute_error: 1.0541\n",
      "Epoch 82/100\n",
      "1713/1713 [==============================] - 0s - loss: 2.0817 - mean_absolute_error: 1.1385 - val_loss: 1.8694 - val_mean_absolute_error: 1.0904\n",
      "Epoch 83/100\n",
      "1713/1713 [==============================] - 0s - loss: 2.0906 - mean_absolute_error: 1.1541 - val_loss: 1.8226 - val_mean_absolute_error: 1.0682\n",
      "Epoch 84/100\n",
      "1713/1713 [==============================] - 0s - loss: 2.0231 - mean_absolute_error: 1.1228 - val_loss: 1.8100 - val_mean_absolute_error: 1.0598\n",
      "Epoch 85/100\n",
      "1713/1713 [==============================] - 0s - loss: 2.0530 - mean_absolute_error: 1.1276 - val_loss: 1.8169 - val_mean_absolute_error: 1.0652\n",
      "Epoch 86/100\n",
      "1713/1713 [==============================] - 0s - loss: 1.9739 - mean_absolute_error: 1.1132 - val_loss: 1.8044 - val_mean_absolute_error: 1.0564\n",
      "Epoch 87/100\n",
      "1713/1713 [==============================] - 0s - loss: 2.0773 - mean_absolute_error: 1.1456 - val_loss: 1.8240 - val_mean_absolute_error: 1.0691\n",
      "Epoch 88/100\n",
      "1713/1713 [==============================] - 0s - loss: 2.0589 - mean_absolute_error: 1.1387 - val_loss: 1.8248 - val_mean_absolute_error: 1.0698\n",
      "Epoch 89/100\n",
      "1713/1713 [==============================] - 0s - loss: 2.0866 - mean_absolute_error: 1.1447 - val_loss: 1.8004 - val_mean_absolute_error: 1.0514\n",
      "Epoch 90/100\n",
      "1713/1713 [==============================] - 0s - loss: 2.0976 - mean_absolute_error: 1.1388 - val_loss: 1.8257 - val_mean_absolute_error: 1.0700\n",
      "Epoch 91/100\n",
      "1713/1713 [==============================] - 0s - loss: 2.0406 - mean_absolute_error: 1.1352 - val_loss: 1.8035 - val_mean_absolute_error: 1.0570\n",
      "Epoch 92/100\n",
      "1713/1713 [==============================] - 0s - loss: 2.0706 - mean_absolute_error: 1.1211 - val_loss: 1.8062 - val_mean_absolute_error: 1.0595\n",
      "Epoch 93/100\n",
      "1713/1713 [==============================] - 0s - loss: 2.0797 - mean_absolute_error: 1.1384 - val_loss: 1.8065 - val_mean_absolute_error: 1.0608\n",
      "Epoch 94/100\n",
      "1713/1713 [==============================] - 0s - loss: 2.0007 - mean_absolute_error: 1.1180 - val_loss: 1.7957 - val_mean_absolute_error: 1.0525\n",
      "Epoch 95/100\n",
      "1713/1713 [==============================] - 0s - loss: 2.0238 - mean_absolute_error: 1.1277 - val_loss: 1.7963 - val_mean_absolute_error: 1.0539\n",
      "Epoch 96/100\n",
      "1713/1713 [==============================] - 0s - loss: 1.9666 - mean_absolute_error: 1.1075 - val_loss: 1.8047 - val_mean_absolute_error: 1.0597\n",
      "Epoch 97/100\n",
      "1713/1713 [==============================] - 0s - loss: 2.0475 - mean_absolute_error: 1.1330 - val_loss: 1.8043 - val_mean_absolute_error: 1.0593\n",
      "Epoch 98/100\n",
      "1713/1713 [==============================] - 0s - loss: 1.9797 - mean_absolute_error: 1.1050 - val_loss: 1.8116 - val_mean_absolute_error: 1.0633\n",
      "Epoch 99/100\n",
      "1713/1713 [==============================] - 0s - loss: 1.9692 - mean_absolute_error: 1.1014 - val_loss: 1.7945 - val_mean_absolute_error: 1.0477\n",
      "Epoch 100/100\n",
      "1713/1713 [==============================] - 0s - loss: 2.0801 - mean_absolute_error: 1.1338 - val_loss: 1.7960 - val_mean_absolute_error: 1.0523\n"
     ]
    },
    {
     "data": {
      "text/plain": [
       "<keras.callbacks.History at 0x7f849dec9f10>"
      ]
     },
     "execution_count": 21,
     "metadata": {},
     "output_type": "execute_result"
    }
   ],
   "source": [
    "model.fit(x_train, y_train,\n",
    "          validation_data=(x_test, y_test),\n",
    "          epochs=100, batch_size=500, verbose=1)"
   ]
  },
  {
   "cell_type": "code",
   "execution_count": null,
   "metadata": {
    "collapsed": true
   },
   "outputs": [],
   "source": []
  }
 ],
 "metadata": {
  "kernelspec": {
   "display_name": "Python 2",
   "language": "python",
   "name": "python2"
  },
  "language_info": {
   "codemirror_mode": {
    "name": "ipython",
    "version": 2
   },
   "file_extension": ".py",
   "mimetype": "text/x-python",
   "name": "python",
   "nbconvert_exporter": "python",
   "pygments_lexer": "ipython2",
   "version": "2.7.12"
  }
 },
 "nbformat": 4,
 "nbformat_minor": 2
}
